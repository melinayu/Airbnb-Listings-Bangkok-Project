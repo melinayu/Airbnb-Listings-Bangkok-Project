{
 "cells": [
  {
   "cell_type": "markdown",
   "metadata": {},
   "source": [
    "<h1 style=\"text-align: center;\">\"Optimizing Airbnb Listings in Bangkok:<br> A Data-Driven Approach to Boost Bookings and Revenue\"</h1>\n",
    "<h3 style=\"text-align: center;\">Melin Ayu Safitri</h3>\n",
    "\n",
    "---"
   ]
  },
  {
   "cell_type": "markdown",
   "metadata": {},
   "source": [
    "## **1. Business Context**"
   ]
  },
  {
   "cell_type": "markdown",
   "metadata": {},
   "source": [
    "### **1.1. Context**\n",
    "Airbnb has become a dominant platform for short-term rentals, connecting hosts with travelers seeking affordable and unique accommodations. In cities like Bangkok, where tourism is booming, the competition among Airbnb listings is fierce. Hosts are continuously striving to optimize their listings to improve occupancy rates and revenue. To remain competitive, hosts need to understand key factors such as pricing trends, seasonal fluctuations, guest preferences, and competitor behaviors. Insights derived from data can help Airbnb hosts in Bangkok make informed decisions to stand out in this crowded market."
   ]
  },
  {
   "cell_type": "markdown",
   "metadata": {},
   "source": [
    "### **1.2. Problem Statements**\n",
    "The rapidly growing Airbnb market in Bangkok presents significant challenges for hosts looking to maximize their listings' visibility, bookings, and profitability. Key factors influencing success include geospatial competition, seasonal demand fluctuations, and policies related to room types and minimum stay requirements. First, the concentration of Airbnb listings within specific neighborhoods could lead to increased competition, making it essential to understand how listing density impacts a host’s competitive position. Secondly, hosts need strategies to adjust pricing and availability according to seasonal demand and competitive pricing pressures. Finally, the type of room offered and the minimum stay policy can significantly influence booking patterns. Understanding the relationship between these variables is crucial for hosts to optimize their listings and stay competitive in a dynamic market. Addressing these issues will provide actionable insights to improve host performance and market strategy."
   ]
  },
  {
   "cell_type": "markdown",
   "metadata": {},
   "source": [
    "### **1.3. Key Objective.**\n",
    "1. **Geospatial Competition and Listings Density**: Investigate how the concentration of Airbnb listings in specific neighborhoods affects the level of competition among hosts.\n",
    "\n",
    "2. **Optimize Pricing and Availability:** Develop strategies for hosts to adjust their pricing and availability based on seasonal demand fluctuations and competitive pricing.\n",
    "\n",
    "3. **Evaluate impact of Room Type and Minimum Stay Policy:** Understand how different room types and minimum stay policies influence the total number of bookings on Airbnb."
   ]
  },
  {
   "cell_type": "markdown",
   "metadata": {},
   "source": [
    "## **2. Data Understanding**<br>"
   ]
  },
  {
   "cell_type": "markdown",
   "metadata": {},
   "source": [
    "### **2.1. General Information**"
   ]
  },
  {
   "cell_type": "markdown",
   "metadata": {},
   "source": [
    "Before performing data analysis, it's crucial to first familiarize with the dataset. This involves reviewing the data structure, understanding the types of variables present, and checking for missing values or any discrepancies. Descriptive statistics are helpful for gaining an initial understanding of the data's distribution and range. Once this overview is complete, the next step is data cleaning, which involves addressing any issues such as null values, duplicates, or inconsistent formatting. This process ensures the data is well-prepared, accurate, and suitable for in-depth analysis, ultimately leading to more reliable results.\n",
    "\n",
    "- The dataset likely consists of various features related to each Airbnb listing in Bangkok, such as room type, price, minimum stay policy, reviews, and host information.\n",
    "- The number of rows represents the individual Airbnb listings, and the columns provide detailed attributes about each listing, which are crucial for understanding the business and trends in the market."
   ]
  },
  {
   "cell_type": "markdown",
   "metadata": {},
   "source": [
    "### **2.2. Feature Information**\n",
    "Below are the columns in the dataset along with their descriptions:"
   ]
  },
  {
   "cell_type": "markdown",
   "metadata": {},
   "source": [
    "- **id**\t                          : Airbnb's unique identifier for the listing.\n",
    "- **name**                            : Name of the listing.\n",
    "- **host_id**                         : Airbnb's unique identifier for the host/user.\n",
    "- **host_name**                       : Name of the host, usually just the first name(s).\n",
    "- **neighbourhood**                   : The neighborhood is geocoded using the latitude and\n",
    "longitude against neighborhoods as defined by open or public\n",
    "digital shapefiles.\n",
    "- **latitude**                        : Latitude of the listing (WGS84 projection).\n",
    "- **longitude**                       : Longitude of the listing (WGS84 projection).\n",
    "- **room_type**                       : All homes are grouped into the following four room types -> Entire home/apt, Private room, Shared room and Hotel room.\n",
    "- **price**                           : Daily price in local currency. Note, the $ sign may be used\n",
    "despite the locale.\n",
    "- **minimum_nights**                  : The minimum number of night stays for the listing (calendar\n",
    "rules may differ).\n",
    "- **number_of_reviews**               : Total number of reviews the listing has.\n",
    "- **last_review**                     : Date of the last/newest review.\n",
    "- **calculated_host_listings_count**  : The number of listings the host has in the current scrape in\n",
    "the city/region geography.\n",
    "- **availability_365**                : Avaliability_x. The calendar determines the availability of the listing x days in the future. Note a listing may be available because it has been booked by a guest or blocked by the host.\n",
    "- **number_of_reviews_ltm**           : Number of reviews the listing has in the last 12 months."
   ]
  },
  {
   "cell_type": "markdown",
   "metadata": {},
   "source": [
    "### **2.3. Statistics Summary**\n",
    "In order to fully understand the dataset, **statistics summary** is carried out. First, we will determine the number of rows and columns in the dataset."
   ]
  },
  {
   "cell_type": "code",
   "execution_count": 1,
   "metadata": {},
   "outputs": [],
   "source": [
    "# Importing required libraries\n",
    "\n",
    "# Library for data cleaning and data manipulation\n",
    "import pandas as pd\n",
    "import numpy as np\n",
    "\n",
    "# Library for data visualization\n",
    "import seaborn as sns\n",
    "import matplotlib.pyplot as plt\n",
    "import folium\n",
    "from folium.plugins import MarkerCluster\n",
    "import geopandas as gpd\n",
    "\n",
    "# Library for normality test\n",
    "import scipy.stats as stats"
   ]
  },
  {
   "cell_type": "code",
   "execution_count": 2,
   "metadata": {},
   "outputs": [
    {
     "data": {
      "text/html": [
       "<div>\n",
       "<style scoped>\n",
       "    .dataframe tbody tr th:only-of-type {\n",
       "        vertical-align: middle;\n",
       "    }\n",
       "\n",
       "    .dataframe tbody tr th {\n",
       "        vertical-align: top;\n",
       "    }\n",
       "\n",
       "    .dataframe thead th {\n",
       "        text-align: right;\n",
       "    }\n",
       "</style>\n",
       "<table border=\"1\" class=\"dataframe\">\n",
       "  <thead>\n",
       "    <tr style=\"text-align: right;\">\n",
       "      <th></th>\n",
       "      <th>Unnamed: 0</th>\n",
       "      <th>id</th>\n",
       "      <th>name</th>\n",
       "      <th>host_id</th>\n",
       "      <th>host_name</th>\n",
       "      <th>neighbourhood</th>\n",
       "      <th>latitude</th>\n",
       "      <th>longitude</th>\n",
       "      <th>room_type</th>\n",
       "      <th>price</th>\n",
       "      <th>minimum_nights</th>\n",
       "      <th>number_of_reviews</th>\n",
       "      <th>last_review</th>\n",
       "      <th>reviews_per_month</th>\n",
       "      <th>calculated_host_listings_count</th>\n",
       "      <th>availability_365</th>\n",
       "      <th>number_of_reviews_ltm</th>\n",
       "    </tr>\n",
       "  </thead>\n",
       "  <tbody>\n",
       "    <tr>\n",
       "      <th>0</th>\n",
       "      <td>0</td>\n",
       "      <td>27934</td>\n",
       "      <td>Nice room with superb city view</td>\n",
       "      <td>120437</td>\n",
       "      <td>Nuttee</td>\n",
       "      <td>Ratchathewi</td>\n",
       "      <td>13.75983</td>\n",
       "      <td>100.54134</td>\n",
       "      <td>Entire home/apt</td>\n",
       "      <td>1905</td>\n",
       "      <td>3</td>\n",
       "      <td>65</td>\n",
       "      <td>2020-01-06</td>\n",
       "      <td>0.50</td>\n",
       "      <td>2</td>\n",
       "      <td>353</td>\n",
       "      <td>0</td>\n",
       "    </tr>\n",
       "    <tr>\n",
       "      <th>1</th>\n",
       "      <td>1</td>\n",
       "      <td>27979</td>\n",
       "      <td>Easy going landlord,easy place</td>\n",
       "      <td>120541</td>\n",
       "      <td>Emy</td>\n",
       "      <td>Bang Na</td>\n",
       "      <td>13.66818</td>\n",
       "      <td>100.61674</td>\n",
       "      <td>Private room</td>\n",
       "      <td>1316</td>\n",
       "      <td>1</td>\n",
       "      <td>0</td>\n",
       "      <td>NaN</td>\n",
       "      <td>NaN</td>\n",
       "      <td>2</td>\n",
       "      <td>358</td>\n",
       "      <td>0</td>\n",
       "    </tr>\n",
       "    <tr>\n",
       "      <th>2</th>\n",
       "      <td>2</td>\n",
       "      <td>28745</td>\n",
       "      <td>modern-style apartment in Bangkok</td>\n",
       "      <td>123784</td>\n",
       "      <td>Familyroom</td>\n",
       "      <td>Bang Kapi</td>\n",
       "      <td>13.75232</td>\n",
       "      <td>100.62402</td>\n",
       "      <td>Private room</td>\n",
       "      <td>800</td>\n",
       "      <td>60</td>\n",
       "      <td>0</td>\n",
       "      <td>NaN</td>\n",
       "      <td>NaN</td>\n",
       "      <td>1</td>\n",
       "      <td>365</td>\n",
       "      <td>0</td>\n",
       "    </tr>\n",
       "    <tr>\n",
       "      <th>3</th>\n",
       "      <td>3</td>\n",
       "      <td>35780</td>\n",
       "      <td>Spacious one bedroom at The Kris Condo Bldg. 3</td>\n",
       "      <td>153730</td>\n",
       "      <td>Sirilak</td>\n",
       "      <td>Din Daeng</td>\n",
       "      <td>13.78823</td>\n",
       "      <td>100.57256</td>\n",
       "      <td>Private room</td>\n",
       "      <td>1286</td>\n",
       "      <td>7</td>\n",
       "      <td>2</td>\n",
       "      <td>2022-04-01</td>\n",
       "      <td>0.03</td>\n",
       "      <td>1</td>\n",
       "      <td>323</td>\n",
       "      <td>1</td>\n",
       "    </tr>\n",
       "    <tr>\n",
       "      <th>4</th>\n",
       "      <td>4</td>\n",
       "      <td>941865</td>\n",
       "      <td>Suite Room 3 at MetroPoint</td>\n",
       "      <td>610315</td>\n",
       "      <td>Kasem</td>\n",
       "      <td>Bang Kapi</td>\n",
       "      <td>13.76872</td>\n",
       "      <td>100.63338</td>\n",
       "      <td>Private room</td>\n",
       "      <td>1905</td>\n",
       "      <td>1</td>\n",
       "      <td>0</td>\n",
       "      <td>NaN</td>\n",
       "      <td>NaN</td>\n",
       "      <td>3</td>\n",
       "      <td>365</td>\n",
       "      <td>0</td>\n",
       "    </tr>\n",
       "  </tbody>\n",
       "</table>\n",
       "</div>"
      ],
      "text/plain": [
       "   Unnamed: 0      id                                            name  \\\n",
       "0           0   27934                 Nice room with superb city view   \n",
       "1           1   27979                  Easy going landlord,easy place   \n",
       "2           2   28745               modern-style apartment in Bangkok   \n",
       "3           3   35780  Spacious one bedroom at The Kris Condo Bldg. 3   \n",
       "4           4  941865                      Suite Room 3 at MetroPoint   \n",
       "\n",
       "   host_id   host_name neighbourhood  latitude  longitude        room_type  \\\n",
       "0   120437      Nuttee   Ratchathewi  13.75983  100.54134  Entire home/apt   \n",
       "1   120541         Emy       Bang Na  13.66818  100.61674     Private room   \n",
       "2   123784  Familyroom     Bang Kapi  13.75232  100.62402     Private room   \n",
       "3   153730     Sirilak     Din Daeng  13.78823  100.57256     Private room   \n",
       "4   610315       Kasem     Bang Kapi  13.76872  100.63338     Private room   \n",
       "\n",
       "   price  minimum_nights  number_of_reviews last_review  reviews_per_month  \\\n",
       "0   1905               3                 65  2020-01-06               0.50   \n",
       "1   1316               1                  0         NaN                NaN   \n",
       "2    800              60                  0         NaN                NaN   \n",
       "3   1286               7                  2  2022-04-01               0.03   \n",
       "4   1905               1                  0         NaN                NaN   \n",
       "\n",
       "   calculated_host_listings_count  availability_365  number_of_reviews_ltm  \n",
       "0                               2               353                      0  \n",
       "1                               2               358                      0  \n",
       "2                               1               365                      0  \n",
       "3                               1               323                      1  \n",
       "4                               3               365                      0  "
      ]
     },
     "execution_count": 2,
     "metadata": {},
     "output_type": "execute_result"
    }
   ],
   "source": [
    "# Load the dataset using csv format\n",
    "df = pd.read_csv(r\"C:\\Users\\user\\OneDrive\\Documents\\Airbnb-Listings-Bangkok-Project\\data\\raw\\Airbnb Listings Bangkok.csv\")\n",
    "\n",
    "# Displays the first 5 rows of the dataframe\n",
    "df.head()"
   ]
  },
  {
   "cell_type": "code",
   "execution_count": 3,
   "metadata": {},
   "outputs": [
    {
     "name": "stdout",
     "output_type": "stream",
     "text": [
      "number of rows and columns in the data: (15854, 17)\n"
     ]
    }
   ],
   "source": [
    "# Displays the number of rows and columns\n",
    "print(f'number of rows and columns in the data:',df.shape)"
   ]
  },
  {
   "cell_type": "markdown",
   "metadata": {},
   "source": [
    "**Insight** :<br> It was found that the data set consisted of **15,854 rows** and **17 columns**. "
   ]
  },
  {
   "cell_type": "code",
   "execution_count": 4,
   "metadata": {},
   "outputs": [
    {
     "name": "stdout",
     "output_type": "stream",
     "text": [
      "<class 'pandas.core.frame.DataFrame'>\n",
      "RangeIndex: 15854 entries, 0 to 15853\n",
      "Data columns (total 17 columns):\n",
      " #   Column                          Non-Null Count  Dtype  \n",
      "---  ------                          --------------  -----  \n",
      " 0   Unnamed: 0                      15854 non-null  int64  \n",
      " 1   id                              15854 non-null  int64  \n",
      " 2   name                            15846 non-null  object \n",
      " 3   host_id                         15854 non-null  int64  \n",
      " 4   host_name                       15853 non-null  object \n",
      " 5   neighbourhood                   15854 non-null  object \n",
      " 6   latitude                        15854 non-null  float64\n",
      " 7   longitude                       15854 non-null  float64\n",
      " 8   room_type                       15854 non-null  object \n",
      " 9   price                           15854 non-null  int64  \n",
      " 10  minimum_nights                  15854 non-null  int64  \n",
      " 11  number_of_reviews               15854 non-null  int64  \n",
      " 12  last_review                     10064 non-null  object \n",
      " 13  reviews_per_month               10064 non-null  float64\n",
      " 14  calculated_host_listings_count  15854 non-null  int64  \n",
      " 15  availability_365                15854 non-null  int64  \n",
      " 16  number_of_reviews_ltm           15854 non-null  int64  \n",
      "dtypes: float64(3), int64(9), object(5)\n",
      "memory usage: 2.1+ MB\n"
     ]
    }
   ],
   "source": [
    "# Provides concise information about DataFrame\n",
    "df.info()"
   ]
  },
  {
   "cell_type": "markdown",
   "metadata": {},
   "source": [
    "**From the information above we get insight:**<br>\n",
    "1. Some columns have missing values, including '**name**', '**host_name**', '**last_review**', and '**reviews_per_month**', as their non-null counts are lower than the total of 15,854 entries\n",
    "2. An inconsistency was found in the data types, particularly with the '**last_review**' column, which is currently categorized as an object. This column needs to be converted to a datetime format\n"
   ]
  },
  {
   "cell_type": "code",
   "execution_count": 5,
   "metadata": {},
   "outputs": [
    {
     "data": {
      "text/plain": [
       "Unnamed: 0                        15854\n",
       "id                                15854\n",
       "name                              14794\n",
       "host_id                            6659\n",
       "host_name                          5312\n",
       "neighbourhood                        50\n",
       "latitude                           9606\n",
       "longitude                         10224\n",
       "room_type                             4\n",
       "price                              3040\n",
       "minimum_nights                       86\n",
       "number_of_reviews                   298\n",
       "last_review                        1669\n",
       "reviews_per_month                   513\n",
       "calculated_host_listings_count       50\n",
       "availability_365                    366\n",
       "number_of_reviews_ltm                85\n",
       "dtype: int64"
      ]
     },
     "execution_count": 5,
     "metadata": {},
     "output_type": "execute_result"
    }
   ],
   "source": [
    "# Displays the number of unique values ​​from a column\n",
    "df.loc[:,:].nunique()"
   ]
  },
  {
   "cell_type": "markdown",
   "metadata": {},
   "source": [
    "**Insight** :<br>\n",
    "1. The dataset contains 15,854 listings with unique id values\n",
    "2. There are 50 unique neighbourhoods and 4 room types, providing a broad geographic and accommodation type coverage"
   ]
  },
  {
   "cell_type": "markdown",
   "metadata": {},
   "source": [
    "## **3. Data Cleaning**<br>\n",
    "Prior to performing any data analysis, it is crucial to fully comprehend and prepare the dataset. This includes reviewing the dataset’s structure, identifying the types of variables, and identifying any missing or inconsistent data. Once initial insights are obtained through descriptive statistics, data cleaning is carried out to resolve any issues, such as missing data or inconsistencies. This process ensures that the dataset is accurate, complete, and suitable for dependable analysis.<br>"
   ]
  },
  {
   "cell_type": "markdown",
   "metadata": {},
   "source": [
    "### **3.1. Drop Unnecessary Column**<br>\n",
    "To simplify the dataset and focus on the most important information, unnecessary columns that do not add value to the analysis will be eliminated.<br>\n",
    "In particular, the column **'Unnamed'** will be removed because as an index from a previously saved file and does not contain any valuable information"
   ]
  },
  {
   "cell_type": "code",
   "execution_count": 6,
   "metadata": {},
   "outputs": [
    {
     "data": {
      "text/html": [
       "<div>\n",
       "<style scoped>\n",
       "    .dataframe tbody tr th:only-of-type {\n",
       "        vertical-align: middle;\n",
       "    }\n",
       "\n",
       "    .dataframe tbody tr th {\n",
       "        vertical-align: top;\n",
       "    }\n",
       "\n",
       "    .dataframe thead th {\n",
       "        text-align: right;\n",
       "    }\n",
       "</style>\n",
       "<table border=\"1\" class=\"dataframe\">\n",
       "  <thead>\n",
       "    <tr style=\"text-align: right;\">\n",
       "      <th></th>\n",
       "      <th>id</th>\n",
       "      <th>name</th>\n",
       "      <th>host_id</th>\n",
       "      <th>host_name</th>\n",
       "      <th>neighbourhood</th>\n",
       "      <th>latitude</th>\n",
       "      <th>longitude</th>\n",
       "      <th>room_type</th>\n",
       "      <th>price</th>\n",
       "      <th>minimum_nights</th>\n",
       "      <th>number_of_reviews</th>\n",
       "      <th>last_review</th>\n",
       "      <th>reviews_per_month</th>\n",
       "      <th>calculated_host_listings_count</th>\n",
       "      <th>availability_365</th>\n",
       "      <th>number_of_reviews_ltm</th>\n",
       "    </tr>\n",
       "  </thead>\n",
       "  <tbody>\n",
       "    <tr>\n",
       "      <th>0</th>\n",
       "      <td>27934</td>\n",
       "      <td>Nice room with superb city view</td>\n",
       "      <td>120437</td>\n",
       "      <td>Nuttee</td>\n",
       "      <td>Ratchathewi</td>\n",
       "      <td>13.75983</td>\n",
       "      <td>100.54134</td>\n",
       "      <td>Entire home/apt</td>\n",
       "      <td>1905</td>\n",
       "      <td>3</td>\n",
       "      <td>65</td>\n",
       "      <td>2020-01-06</td>\n",
       "      <td>0.50</td>\n",
       "      <td>2</td>\n",
       "      <td>353</td>\n",
       "      <td>0</td>\n",
       "    </tr>\n",
       "    <tr>\n",
       "      <th>1</th>\n",
       "      <td>27979</td>\n",
       "      <td>Easy going landlord,easy place</td>\n",
       "      <td>120541</td>\n",
       "      <td>Emy</td>\n",
       "      <td>Bang Na</td>\n",
       "      <td>13.66818</td>\n",
       "      <td>100.61674</td>\n",
       "      <td>Private room</td>\n",
       "      <td>1316</td>\n",
       "      <td>1</td>\n",
       "      <td>0</td>\n",
       "      <td>NaN</td>\n",
       "      <td>NaN</td>\n",
       "      <td>2</td>\n",
       "      <td>358</td>\n",
       "      <td>0</td>\n",
       "    </tr>\n",
       "    <tr>\n",
       "      <th>2</th>\n",
       "      <td>28745</td>\n",
       "      <td>modern-style apartment in Bangkok</td>\n",
       "      <td>123784</td>\n",
       "      <td>Familyroom</td>\n",
       "      <td>Bang Kapi</td>\n",
       "      <td>13.75232</td>\n",
       "      <td>100.62402</td>\n",
       "      <td>Private room</td>\n",
       "      <td>800</td>\n",
       "      <td>60</td>\n",
       "      <td>0</td>\n",
       "      <td>NaN</td>\n",
       "      <td>NaN</td>\n",
       "      <td>1</td>\n",
       "      <td>365</td>\n",
       "      <td>0</td>\n",
       "    </tr>\n",
       "    <tr>\n",
       "      <th>3</th>\n",
       "      <td>35780</td>\n",
       "      <td>Spacious one bedroom at The Kris Condo Bldg. 3</td>\n",
       "      <td>153730</td>\n",
       "      <td>Sirilak</td>\n",
       "      <td>Din Daeng</td>\n",
       "      <td>13.78823</td>\n",
       "      <td>100.57256</td>\n",
       "      <td>Private room</td>\n",
       "      <td>1286</td>\n",
       "      <td>7</td>\n",
       "      <td>2</td>\n",
       "      <td>2022-04-01</td>\n",
       "      <td>0.03</td>\n",
       "      <td>1</td>\n",
       "      <td>323</td>\n",
       "      <td>1</td>\n",
       "    </tr>\n",
       "    <tr>\n",
       "      <th>4</th>\n",
       "      <td>941865</td>\n",
       "      <td>Suite Room 3 at MetroPoint</td>\n",
       "      <td>610315</td>\n",
       "      <td>Kasem</td>\n",
       "      <td>Bang Kapi</td>\n",
       "      <td>13.76872</td>\n",
       "      <td>100.63338</td>\n",
       "      <td>Private room</td>\n",
       "      <td>1905</td>\n",
       "      <td>1</td>\n",
       "      <td>0</td>\n",
       "      <td>NaN</td>\n",
       "      <td>NaN</td>\n",
       "      <td>3</td>\n",
       "      <td>365</td>\n",
       "      <td>0</td>\n",
       "    </tr>\n",
       "  </tbody>\n",
       "</table>\n",
       "</div>"
      ],
      "text/plain": [
       "       id                                            name  host_id  \\\n",
       "0   27934                 Nice room with superb city view   120437   \n",
       "1   27979                  Easy going landlord,easy place   120541   \n",
       "2   28745               modern-style apartment in Bangkok   123784   \n",
       "3   35780  Spacious one bedroom at The Kris Condo Bldg. 3   153730   \n",
       "4  941865                      Suite Room 3 at MetroPoint   610315   \n",
       "\n",
       "    host_name neighbourhood  latitude  longitude        room_type  price  \\\n",
       "0      Nuttee   Ratchathewi  13.75983  100.54134  Entire home/apt   1905   \n",
       "1         Emy       Bang Na  13.66818  100.61674     Private room   1316   \n",
       "2  Familyroom     Bang Kapi  13.75232  100.62402     Private room    800   \n",
       "3     Sirilak     Din Daeng  13.78823  100.57256     Private room   1286   \n",
       "4       Kasem     Bang Kapi  13.76872  100.63338     Private room   1905   \n",
       "\n",
       "   minimum_nights  number_of_reviews last_review  reviews_per_month  \\\n",
       "0               3                 65  2020-01-06               0.50   \n",
       "1               1                  0         NaN                NaN   \n",
       "2              60                  0         NaN                NaN   \n",
       "3               7                  2  2022-04-01               0.03   \n",
       "4               1                  0         NaN                NaN   \n",
       "\n",
       "   calculated_host_listings_count  availability_365  number_of_reviews_ltm  \n",
       "0                               2               353                      0  \n",
       "1                               2               358                      0  \n",
       "2                               1               365                      0  \n",
       "3                               1               323                      1  \n",
       "4                               3               365                      0  "
      ]
     },
     "execution_count": 6,
     "metadata": {},
     "output_type": "execute_result"
    }
   ],
   "source": [
    "# Drop unnecessary columns from the dataset\n",
    "df.drop(columns=[\"Unnamed: 0\"], inplace=True)\n",
    "\n",
    "# Verifying if the columns are already dropped or not\n",
    "df.head()"
   ]
  },
  {
   "cell_type": "markdown",
   "metadata": {},
   "source": [
    "### **3.2. Missing Values**<br>\n",
    "To identifying whether any data is missing or unavailable in a dataset. Missing data often appears as empty or unfilled cells in certain columns, typically represented by symbols such as NaN (Not a Number) or null.\n",
    "\n",
    "It is important to check for missing values because they can impact the results of analysis or models being developed. If not handled properly, missing data can lead to errors in calculations, inaccuracies in models, or bias in the analysis."
   ]
  },
  {
   "cell_type": "markdown",
   "metadata": {},
   "source": [
    "#### **3.2.1. checking Missing Values**"
   ]
  },
  {
   "cell_type": "code",
   "execution_count": 7,
   "metadata": {},
   "outputs": [
    {
     "data": {
      "text/plain": [
       "id                                   0\n",
       "name                                 8\n",
       "host_id                              0\n",
       "host_name                            1\n",
       "neighbourhood                        0\n",
       "latitude                             0\n",
       "longitude                            0\n",
       "room_type                            0\n",
       "price                                0\n",
       "minimum_nights                       0\n",
       "number_of_reviews                    0\n",
       "last_review                       5790\n",
       "reviews_per_month                 5790\n",
       "calculated_host_listings_count       0\n",
       "availability_365                     0\n",
       "number_of_reviews_ltm                0\n",
       "dtype: int64"
      ]
     },
     "execution_count": 7,
     "metadata": {},
     "output_type": "execute_result"
    }
   ],
   "source": [
    "# checking for missing values\n",
    "df.isna().sum()"
   ]
  },
  {
   "cell_type": "code",
   "execution_count": 8,
   "metadata": {},
   "outputs": [
    {
     "data": {
      "text/plain": [
       "id                                 0.000\n",
       "name                               0.050\n",
       "host_id                            0.000\n",
       "host_name                          0.006\n",
       "neighbourhood                      0.000\n",
       "latitude                           0.000\n",
       "longitude                          0.000\n",
       "room_type                          0.000\n",
       "price                              0.000\n",
       "minimum_nights                     0.000\n",
       "number_of_reviews                  0.000\n",
       "last_review                       36.521\n",
       "reviews_per_month                 36.521\n",
       "calculated_host_listings_count     0.000\n",
       "availability_365                   0.000\n",
       "number_of_reviews_ltm              0.000\n",
       "dtype: float64"
      ]
     },
     "execution_count": 8,
     "metadata": {},
     "output_type": "execute_result"
    }
   ],
   "source": [
    "# Calculating the percentage of missing values from every columns\n",
    "round(df.isna().sum()/len(df)*100, 3)"
   ]
  },
  {
   "cell_type": "markdown",
   "metadata": {},
   "source": [
    "From the data above, several key observations can be made:<br>\n",
    "1. The \"**name**\" column has 8 missing values and the \"**host_name**\" column has 1 missing value. These are minor issues that can be easily addressed with simple methods.\n",
    "2. The \"**last_review**\" and \"**reviews_per_month**\" columns show substantial missing data, with 5,789 entries missing in each \"**36.52%**\" of the data. This likely reflects listings that have not received reviews or where the data was not recorded."
   ]
  },
  {
   "cell_type": "markdown",
   "metadata": {},
   "source": [
    "#### **3.2.2. Handling Missing Values (name & host_name columns)**"
   ]
  },
  {
   "cell_type": "markdown",
   "metadata": {},
   "source": [
    "Replace column with the placeholder \"**unknown**\". There are several reasons why the '**name**' and '**host_name**' columns in the data should be replaced (with a placeholder such as \"**unknown**\") rather than deleted:\n",
    "1. **Preservation of Data Structure**: Deleting the columns could disrupt the data structure and reduce the amount of information available in the dataset. By replacing missing values with a placeholder, we retain all columns, ensuring the consistency and completeness of the dataset's structure.\n",
    "2. **Consistency in Handling Missing Data**: Replacing missing values with a placeholder like \"**unknown**\" provides a consistent approach for handling missing data, while deleting the column would remove data that may not need processing or could be used later."
   ]
  },
  {
   "cell_type": "code",
   "execution_count": 9,
   "metadata": {},
   "outputs": [],
   "source": [
    "# Replacing missing values in 'name' and 'host_name' columns with 'Unknown'\n",
    "df[\"name\"] = df[\"name\"].fillna(\"Unknown\")\n",
    "df[\"host_name\"] = df[\"host_name\"].fillna(\"Unknown\")"
   ]
  },
  {
   "cell_type": "code",
   "execution_count": 10,
   "metadata": {},
   "outputs": [
    {
     "data": {
      "text/html": [
       "<div>\n",
       "<style scoped>\n",
       "    .dataframe tbody tr th:only-of-type {\n",
       "        vertical-align: middle;\n",
       "    }\n",
       "\n",
       "    .dataframe tbody tr th {\n",
       "        vertical-align: top;\n",
       "    }\n",
       "\n",
       "    .dataframe thead th {\n",
       "        text-align: right;\n",
       "    }\n",
       "</style>\n",
       "<table border=\"1\" class=\"dataframe\">\n",
       "  <thead>\n",
       "    <tr style=\"text-align: right;\">\n",
       "      <th></th>\n",
       "      <th>column</th>\n",
       "      <th>missing values</th>\n",
       "    </tr>\n",
       "  </thead>\n",
       "  <tbody>\n",
       "    <tr>\n",
       "      <th>0</th>\n",
       "      <td>name</td>\n",
       "      <td>0</td>\n",
       "    </tr>\n",
       "    <tr>\n",
       "      <th>1</th>\n",
       "      <td>host_name</td>\n",
       "      <td>0</td>\n",
       "    </tr>\n",
       "  </tbody>\n",
       "</table>\n",
       "</div>"
      ],
      "text/plain": [
       "      column  missing values\n",
       "0       name               0\n",
       "1  host_name               0"
      ]
     },
     "execution_count": 10,
     "metadata": {},
     "output_type": "execute_result"
    }
   ],
   "source": [
    "# Confirm the adjustments by checking for any remaining missing values.\n",
    "df[[\"name\", \"host_name\"]].isna().sum().reset_index().rename(columns={\"index\": \"column\", 0: \"missing values\"})"
   ]
  },
  {
   "cell_type": "markdown",
   "metadata": {},
   "source": [
    "#### **3.2.3. Handling Missing Values (last_review & reviews_per_month columns)**"
   ]
  },
  {
   "cell_type": "code",
   "execution_count": 11,
   "metadata": {},
   "outputs": [
    {
     "data": {
      "text/plain": [
       "<Axes: >"
      ]
     },
     "execution_count": 11,
     "metadata": {},
     "output_type": "execute_result"
    },
    {
     "data": {
      "image/png": "[encoded data removed]",
      "text/plain": [
       "<Figure size 2500x1000 with 2 Axes>"
      ]
     },
     "metadata": {},
     "output_type": "display_data"
    }
   ],
   "source": [
    "# Visualization of missing values\n",
    "# Matrix \n",
    "import missingno\n",
    "missingno.matrix(df)"
   ]
  },
  {
   "cell_type": "markdown",
   "metadata": {},
   "source": [
    "**Insight** : as the matrix above suggests that they are aligned in the same rows.<br>\n",
    "\n",
    "**Assumption**:<br>\n",
    " the '**number_of_reviews**' column will show the value '**0**' if these values ​​do not exist. This suggests that the lack of reviews for this listing is the reason behind the missing values ​​in '**last_review**' and '**reviews_per_month**'."
   ]
  },
  {
   "cell_type": "code",
   "execution_count": 12,
   "metadata": {},
   "outputs": [
    {
     "data": {
      "text/html": [
       "<div>\n",
       "<style scoped>\n",
       "    .dataframe tbody tr th:only-of-type {\n",
       "        vertical-align: middle;\n",
       "    }\n",
       "\n",
       "    .dataframe tbody tr th {\n",
       "        vertical-align: top;\n",
       "    }\n",
       "\n",
       "    .dataframe thead th {\n",
       "        text-align: right;\n",
       "    }\n",
       "</style>\n",
       "<table border=\"1\" class=\"dataframe\">\n",
       "  <thead>\n",
       "    <tr style=\"text-align: right;\">\n",
       "      <th></th>\n",
       "      <th>id</th>\n",
       "      <th>name</th>\n",
       "      <th>host_id</th>\n",
       "      <th>host_name</th>\n",
       "      <th>neighbourhood</th>\n",
       "      <th>latitude</th>\n",
       "      <th>longitude</th>\n",
       "      <th>room_type</th>\n",
       "      <th>price</th>\n",
       "      <th>minimum_nights</th>\n",
       "      <th>number_of_reviews</th>\n",
       "      <th>last_review</th>\n",
       "      <th>reviews_per_month</th>\n",
       "      <th>calculated_host_listings_count</th>\n",
       "      <th>availability_365</th>\n",
       "      <th>number_of_reviews_ltm</th>\n",
       "    </tr>\n",
       "  </thead>\n",
       "  <tbody>\n",
       "    <tr>\n",
       "      <th>1</th>\n",
       "      <td>27979</td>\n",
       "      <td>Easy going landlord,easy place</td>\n",
       "      <td>120541</td>\n",
       "      <td>Emy</td>\n",
       "      <td>Bang Na</td>\n",
       "      <td>13.668180</td>\n",
       "      <td>100.616740</td>\n",
       "      <td>Private room</td>\n",
       "      <td>1316</td>\n",
       "      <td>1</td>\n",
       "      <td>0</td>\n",
       "      <td>NaN</td>\n",
       "      <td>NaN</td>\n",
       "      <td>2</td>\n",
       "      <td>358</td>\n",
       "      <td>0</td>\n",
       "    </tr>\n",
       "    <tr>\n",
       "      <th>2</th>\n",
       "      <td>28745</td>\n",
       "      <td>modern-style apartment in Bangkok</td>\n",
       "      <td>123784</td>\n",
       "      <td>Familyroom</td>\n",
       "      <td>Bang Kapi</td>\n",
       "      <td>13.752320</td>\n",
       "      <td>100.624020</td>\n",
       "      <td>Private room</td>\n",
       "      <td>800</td>\n",
       "      <td>60</td>\n",
       "      <td>0</td>\n",
       "      <td>NaN</td>\n",
       "      <td>NaN</td>\n",
       "      <td>1</td>\n",
       "      <td>365</td>\n",
       "      <td>0</td>\n",
       "    </tr>\n",
       "    <tr>\n",
       "      <th>4</th>\n",
       "      <td>941865</td>\n",
       "      <td>Suite Room 3 at MetroPoint</td>\n",
       "      <td>610315</td>\n",
       "      <td>Kasem</td>\n",
       "      <td>Bang Kapi</td>\n",
       "      <td>13.768720</td>\n",
       "      <td>100.633380</td>\n",
       "      <td>Private room</td>\n",
       "      <td>1905</td>\n",
       "      <td>1</td>\n",
       "      <td>0</td>\n",
       "      <td>NaN</td>\n",
       "      <td>NaN</td>\n",
       "      <td>3</td>\n",
       "      <td>365</td>\n",
       "      <td>0</td>\n",
       "    </tr>\n",
       "    <tr>\n",
       "      <th>7</th>\n",
       "      <td>1738669</td>\n",
       "      <td>1 chic bedroom apartment in BKK</td>\n",
       "      <td>7045870</td>\n",
       "      <td>Jiraporn</td>\n",
       "      <td>Chatu Chak</td>\n",
       "      <td>13.829250</td>\n",
       "      <td>100.567370</td>\n",
       "      <td>Entire home/apt</td>\n",
       "      <td>1461</td>\n",
       "      <td>1</td>\n",
       "      <td>0</td>\n",
       "      <td>NaN</td>\n",
       "      <td>NaN</td>\n",
       "      <td>1</td>\n",
       "      <td>365</td>\n",
       "      <td>0</td>\n",
       "    </tr>\n",
       "    <tr>\n",
       "      <th>14</th>\n",
       "      <td>959254</td>\n",
       "      <td>Deluxe Condo, Nana, Pool/GYM/Sauna</td>\n",
       "      <td>5153476</td>\n",
       "      <td>Natcha</td>\n",
       "      <td>Khlong Toei</td>\n",
       "      <td>13.715160</td>\n",
       "      <td>100.568060</td>\n",
       "      <td>Entire home/apt</td>\n",
       "      <td>1400</td>\n",
       "      <td>30</td>\n",
       "      <td>0</td>\n",
       "      <td>NaN</td>\n",
       "      <td>NaN</td>\n",
       "      <td>1</td>\n",
       "      <td>365</td>\n",
       "      <td>0</td>\n",
       "    </tr>\n",
       "    <tr>\n",
       "      <th>...</th>\n",
       "      <td>...</td>\n",
       "      <td>...</td>\n",
       "      <td>...</td>\n",
       "      <td>...</td>\n",
       "      <td>...</td>\n",
       "      <td>...</td>\n",
       "      <td>...</td>\n",
       "      <td>...</td>\n",
       "      <td>...</td>\n",
       "      <td>...</td>\n",
       "      <td>...</td>\n",
       "      <td>...</td>\n",
       "      <td>...</td>\n",
       "      <td>...</td>\n",
       "      <td>...</td>\n",
       "      <td>...</td>\n",
       "    </tr>\n",
       "    <tr>\n",
       "      <th>15849</th>\n",
       "      <td>790465040741092826</td>\n",
       "      <td>素坤逸核心两房公寓42楼，靠近BTSon nut/无边天际泳池观赏曼谷夜景/出门当地美食街</td>\n",
       "      <td>94899359</td>\n",
       "      <td>Renee</td>\n",
       "      <td>Pra Wet</td>\n",
       "      <td>13.715132</td>\n",
       "      <td>100.653458</td>\n",
       "      <td>Private room</td>\n",
       "      <td>2298</td>\n",
       "      <td>28</td>\n",
       "      <td>0</td>\n",
       "      <td>NaN</td>\n",
       "      <td>NaN</td>\n",
       "      <td>1</td>\n",
       "      <td>362</td>\n",
       "      <td>0</td>\n",
       "    </tr>\n",
       "    <tr>\n",
       "      <th>15850</th>\n",
       "      <td>790474503157243541</td>\n",
       "      <td>Euro LuxuryHotel PratunamMKt TripleBdNrShoping...</td>\n",
       "      <td>491526222</td>\n",
       "      <td>Phakhamon</td>\n",
       "      <td>Ratchathewi</td>\n",
       "      <td>13.753052</td>\n",
       "      <td>100.538738</td>\n",
       "      <td>Private room</td>\n",
       "      <td>1429</td>\n",
       "      <td>1</td>\n",
       "      <td>0</td>\n",
       "      <td>NaN</td>\n",
       "      <td>NaN</td>\n",
       "      <td>14</td>\n",
       "      <td>365</td>\n",
       "      <td>0</td>\n",
       "    </tr>\n",
       "    <tr>\n",
       "      <th>15851</th>\n",
       "      <td>790475335086864240</td>\n",
       "      <td>Euro LuxuryHotel PratunamMKt TwinBedNrShopingArea</td>\n",
       "      <td>491526222</td>\n",
       "      <td>Phakhamon</td>\n",
       "      <td>Ratchathewi</td>\n",
       "      <td>13.753169</td>\n",
       "      <td>100.538700</td>\n",
       "      <td>Private room</td>\n",
       "      <td>1214</td>\n",
       "      <td>1</td>\n",
       "      <td>0</td>\n",
       "      <td>NaN</td>\n",
       "      <td>NaN</td>\n",
       "      <td>14</td>\n",
       "      <td>365</td>\n",
       "      <td>0</td>\n",
       "    </tr>\n",
       "    <tr>\n",
       "      <th>15852</th>\n",
       "      <td>790475546213717328</td>\n",
       "      <td>Euro LuxuryHotel PratunamMKt TwinBedNrShopingArea</td>\n",
       "      <td>491526222</td>\n",
       "      <td>Phakhamon</td>\n",
       "      <td>Ratchathewi</td>\n",
       "      <td>13.754789</td>\n",
       "      <td>100.538757</td>\n",
       "      <td>Private room</td>\n",
       "      <td>1214</td>\n",
       "      <td>1</td>\n",
       "      <td>0</td>\n",
       "      <td>NaN</td>\n",
       "      <td>NaN</td>\n",
       "      <td>14</td>\n",
       "      <td>365</td>\n",
       "      <td>0</td>\n",
       "    </tr>\n",
       "    <tr>\n",
       "      <th>15853</th>\n",
       "      <td>790476492384199044</td>\n",
       "      <td>Euro LuxuryHotel PratunamMKt TwinBedNrShopingArea</td>\n",
       "      <td>491526222</td>\n",
       "      <td>Phakhamon</td>\n",
       "      <td>Ratchathewi</td>\n",
       "      <td>13.752960</td>\n",
       "      <td>100.540820</td>\n",
       "      <td>Private room</td>\n",
       "      <td>1214</td>\n",
       "      <td>1</td>\n",
       "      <td>0</td>\n",
       "      <td>NaN</td>\n",
       "      <td>NaN</td>\n",
       "      <td>14</td>\n",
       "      <td>365</td>\n",
       "      <td>0</td>\n",
       "    </tr>\n",
       "  </tbody>\n",
       "</table>\n",
       "<p>5790 rows × 16 columns</p>\n",
       "</div>"
      ],
      "text/plain": [
       "                       id                                               name  \\\n",
       "1                   27979                     Easy going landlord,easy place   \n",
       "2                   28745                  modern-style apartment in Bangkok   \n",
       "4                  941865                         Suite Room 3 at MetroPoint   \n",
       "7                 1738669                    1 chic bedroom apartment in BKK   \n",
       "14                 959254                 Deluxe Condo, Nana, Pool/GYM/Sauna   \n",
       "...                   ...                                                ...   \n",
       "15849  790465040741092826      素坤逸核心两房公寓42楼，靠近BTSon nut/无边天际泳池观赏曼谷夜景/出门当地美食街   \n",
       "15850  790474503157243541  Euro LuxuryHotel PratunamMKt TripleBdNrShoping...   \n",
       "15851  790475335086864240  Euro LuxuryHotel PratunamMKt TwinBedNrShopingArea   \n",
       "15852  790475546213717328  Euro LuxuryHotel PratunamMKt TwinBedNrShopingArea   \n",
       "15853  790476492384199044  Euro LuxuryHotel PratunamMKt TwinBedNrShopingArea   \n",
       "\n",
       "         host_id   host_name neighbourhood   latitude   longitude  \\\n",
       "1         120541         Emy       Bang Na  13.668180  100.616740   \n",
       "2         123784  Familyroom     Bang Kapi  13.752320  100.624020   \n",
       "4         610315       Kasem     Bang Kapi  13.768720  100.633380   \n",
       "7        7045870    Jiraporn    Chatu Chak  13.829250  100.567370   \n",
       "14       5153476      Natcha   Khlong Toei  13.715160  100.568060   \n",
       "...          ...         ...           ...        ...         ...   \n",
       "15849   94899359       Renee       Pra Wet  13.715132  100.653458   \n",
       "15850  491526222   Phakhamon   Ratchathewi  13.753052  100.538738   \n",
       "15851  491526222   Phakhamon   Ratchathewi  13.753169  100.538700   \n",
       "15852  491526222   Phakhamon   Ratchathewi  13.754789  100.538757   \n",
       "15853  491526222   Phakhamon   Ratchathewi  13.752960  100.540820   \n",
       "\n",
       "             room_type  price  minimum_nights  number_of_reviews last_review  \\\n",
       "1         Private room   1316               1                  0         NaN   \n",
       "2         Private room    800              60                  0         NaN   \n",
       "4         Private room   1905               1                  0         NaN   \n",
       "7      Entire home/apt   1461               1                  0         NaN   \n",
       "14     Entire home/apt   1400              30                  0         NaN   \n",
       "...                ...    ...             ...                ...         ...   \n",
       "15849     Private room   2298              28                  0         NaN   \n",
       "15850     Private room   1429               1                  0         NaN   \n",
       "15851     Private room   1214               1                  0         NaN   \n",
       "15852     Private room   1214               1                  0         NaN   \n",
       "15853     Private room   1214               1                  0         NaN   \n",
       "\n",
       "       reviews_per_month  calculated_host_listings_count  availability_365  \\\n",
       "1                    NaN                               2               358   \n",
       "2                    NaN                               1               365   \n",
       "4                    NaN                               3               365   \n",
       "7                    NaN                               1               365   \n",
       "14                   NaN                               1               365   \n",
       "...                  ...                             ...               ...   \n",
       "15849                NaN                               1               362   \n",
       "15850                NaN                              14               365   \n",
       "15851                NaN                              14               365   \n",
       "15852                NaN                              14               365   \n",
       "15853                NaN                              14               365   \n",
       "\n",
       "       number_of_reviews_ltm  \n",
       "1                          0  \n",
       "2                          0  \n",
       "4                          0  \n",
       "7                          0  \n",
       "14                         0  \n",
       "...                      ...  \n",
       "15849                      0  \n",
       "15850                      0  \n",
       "15851                      0  \n",
       "15852                      0  \n",
       "15853                      0  \n",
       "\n",
       "[5790 rows x 16 columns]"
      ]
     },
     "execution_count": 12,
     "metadata": {},
     "output_type": "execute_result"
    }
   ],
   "source": [
    "# Verifying if the above assumption holds true.\n",
    "df[df['number_of_reviews']==0]"
   ]
  },
  {
   "cell_type": "markdown",
   "metadata": {},
   "source": [
    "**The number of rows stays the same at 5,790** confirming that the missing values are indeed caused by the lack of reviews for these listings. To resolve this, the missing values in the '**reviews_per_month**' column can be replaced with \"**0**\", and a default datetime value will be assigned to the '**last_review**' column, as it is expected to be in a datetime format. This method ensures that the dataset remains consistent and prepared for further analysis."
   ]
  },
  {
   "cell_type": "code",
   "execution_count": 13,
   "metadata": {},
   "outputs": [],
   "source": [
    "# Fill the missing values in 'reviews_per_month' with 0\n",
    "df[\"reviews_per_month\"] = df[\"reviews_per_month\"].fillna(0)"
   ]
  },
  {
   "cell_type": "code",
   "execution_count": 14,
   "metadata": {},
   "outputs": [],
   "source": [
    "# Fill the missing values in 'last_review' with 0\n",
    "df['last_review'] = df['last_review'].fillna(0)"
   ]
  },
  {
   "cell_type": "code",
   "execution_count": 15,
   "metadata": {},
   "outputs": [],
   "source": [
    "df['last_review'] = pd.to_datetime(df['last_review'], errors='coerce')"
   ]
  },
  {
   "cell_type": "code",
   "execution_count": 16,
   "metadata": {},
   "outputs": [
    {
     "name": "stdout",
     "output_type": "stream",
     "text": [
      "<class 'pandas.core.series.Series'>\n",
      "RangeIndex: 15854 entries, 0 to 15853\n",
      "Series name: last_review\n",
      "Non-Null Count  Dtype         \n",
      "--------------  -----         \n",
      "10064 non-null  datetime64[ns]\n",
      "dtypes: datetime64[ns](1)\n",
      "memory usage: 124.0 KB\n"
     ]
    }
   ],
   "source": [
    "df['last_review'].info()"
   ]
  },
  {
   "cell_type": "code",
   "execution_count": 17,
   "metadata": {},
   "outputs": [
    {
     "data": {
      "text/html": [
       "<div>\n",
       "<style scoped>\n",
       "    .dataframe tbody tr th:only-of-type {\n",
       "        vertical-align: middle;\n",
       "    }\n",
       "\n",
       "    .dataframe tbody tr th {\n",
       "        vertical-align: top;\n",
       "    }\n",
       "\n",
       "    .dataframe thead th {\n",
       "        text-align: right;\n",
       "    }\n",
       "</style>\n",
       "<table border=\"1\" class=\"dataframe\">\n",
       "  <thead>\n",
       "    <tr style=\"text-align: right;\">\n",
       "      <th></th>\n",
       "      <th>Column</th>\n",
       "      <th>Missing Values</th>\n",
       "    </tr>\n",
       "  </thead>\n",
       "  <tbody>\n",
       "    <tr>\n",
       "      <th>0</th>\n",
       "      <td>last_review</td>\n",
       "      <td>5790</td>\n",
       "    </tr>\n",
       "    <tr>\n",
       "      <th>1</th>\n",
       "      <td>reviews_per_month</td>\n",
       "      <td>0</td>\n",
       "    </tr>\n",
       "  </tbody>\n",
       "</table>\n",
       "</div>"
      ],
      "text/plain": [
       "              Column  Missing Values\n",
       "0        last_review            5790\n",
       "1  reviews_per_month               0"
      ]
     },
     "execution_count": 17,
     "metadata": {},
     "output_type": "execute_result"
    }
   ],
   "source": [
    "# Confirm the adjustments by checking for any remaining missing values.\n",
    "df[[\"last_review\", \"reviews_per_month\"]].isnull().sum().reset_index().rename(columns={\"index\": \"Column\", 0: \"Missing Values\"})"
   ]
  },
  {
   "cell_type": "markdown",
   "metadata": {},
   "source": [
    "***The 'missing values' has been successfully addressed***"
   ]
  },
  {
   "cell_type": "markdown",
   "metadata": {},
   "source": [
    "### **3.3. Duplicated Values**"
   ]
  },
  {
   "cell_type": "markdown",
   "metadata": {},
   "source": [
    " Checking for duplicate data is an essential step to ensure more accurate, efficient, and reliable analysis, as well as to maintain the quality and integrity of the dataset used."
   ]
  },
  {
   "cell_type": "code",
   "execution_count": 18,
   "metadata": {},
   "outputs": [
    {
     "data": {
      "text/html": [
       "<div>\n",
       "<style scoped>\n",
       "    .dataframe tbody tr th:only-of-type {\n",
       "        vertical-align: middle;\n",
       "    }\n",
       "\n",
       "    .dataframe tbody tr th {\n",
       "        vertical-align: top;\n",
       "    }\n",
       "\n",
       "    .dataframe thead th {\n",
       "        text-align: right;\n",
       "    }\n",
       "</style>\n",
       "<table border=\"1\" class=\"dataframe\">\n",
       "  <thead>\n",
       "    <tr style=\"text-align: right;\">\n",
       "      <th></th>\n",
       "      <th>id</th>\n",
       "      <th>name</th>\n",
       "      <th>host_id</th>\n",
       "      <th>host_name</th>\n",
       "      <th>neighbourhood</th>\n",
       "      <th>latitude</th>\n",
       "      <th>longitude</th>\n",
       "      <th>room_type</th>\n",
       "      <th>price</th>\n",
       "      <th>minimum_nights</th>\n",
       "      <th>number_of_reviews</th>\n",
       "      <th>last_review</th>\n",
       "      <th>reviews_per_month</th>\n",
       "      <th>calculated_host_listings_count</th>\n",
       "      <th>availability_365</th>\n",
       "      <th>number_of_reviews_ltm</th>\n",
       "    </tr>\n",
       "  </thead>\n",
       "  <tbody>\n",
       "  </tbody>\n",
       "</table>\n",
       "</div>"
      ],
      "text/plain": [
       "Empty DataFrame\n",
       "Columns: [id, name, host_id, host_name, neighbourhood, latitude, longitude, room_type, price, minimum_nights, number_of_reviews, last_review, reviews_per_month, calculated_host_listings_count, availability_365, number_of_reviews_ltm]\n",
       "Index: []"
      ]
     },
     "execution_count": 18,
     "metadata": {},
     "output_type": "execute_result"
    }
   ],
   "source": [
    "# Verifying for duplicate entries throughout the entire dataset\n",
    "df[df.duplicated()]"
   ]
  },
  {
   "cell_type": "code",
   "execution_count": 19,
   "metadata": {},
   "outputs": [
    {
     "data": {
      "text/plain": [
       "0"
      ]
     },
     "execution_count": 19,
     "metadata": {},
     "output_type": "execute_result"
    }
   ],
   "source": [
    "# Verifying duplicates based on the 'id' column, since each listing should have a distinct identifier\n",
    "df.duplicated([\"id\"]).sum()"
   ]
  },
  {
   "cell_type": "markdown",
   "metadata": {},
   "source": [
    "***I have verified that the dataset contains no duplicate entries***"
   ]
  },
  {
   "cell_type": "markdown",
   "metadata": {},
   "source": [
    "### **3.4. Identify Anomaly Values**"
   ]
  },
  {
   "cell_type": "markdown",
   "metadata": {},
   "source": [
    "To improve data quality, enhances analysis accuracy, prevents biased results, and uncovers valuable insights. It ensures that decisions made based on the data are well-informed, reliable, and actionable."
   ]
  },
  {
   "cell_type": "markdown",
   "metadata": {},
   "source": [
    "#### **3.4.1. Checking Anomalies**"
   ]
  },
  {
   "cell_type": "code",
   "execution_count": 20,
   "metadata": {},
   "outputs": [
    {
     "data": {
      "text/html": [
       "<div>\n",
       "<style scoped>\n",
       "    .dataframe tbody tr th:only-of-type {\n",
       "        vertical-align: middle;\n",
       "    }\n",
       "\n",
       "    .dataframe tbody tr th {\n",
       "        vertical-align: top;\n",
       "    }\n",
       "\n",
       "    .dataframe thead th {\n",
       "        text-align: right;\n",
       "    }\n",
       "</style>\n",
       "<table border=\"1\" class=\"dataframe\">\n",
       "  <thead>\n",
       "    <tr style=\"text-align: right;\">\n",
       "      <th></th>\n",
       "      <th>id</th>\n",
       "      <th>host_id</th>\n",
       "      <th>latitude</th>\n",
       "      <th>longitude</th>\n",
       "      <th>price</th>\n",
       "      <th>minimum_nights</th>\n",
       "      <th>number_of_reviews</th>\n",
       "      <th>last_review</th>\n",
       "      <th>reviews_per_month</th>\n",
       "      <th>calculated_host_listings_count</th>\n",
       "      <th>availability_365</th>\n",
       "      <th>number_of_reviews_ltm</th>\n",
       "    </tr>\n",
       "  </thead>\n",
       "  <tbody>\n",
       "    <tr>\n",
       "      <th>count</th>\n",
       "      <td>1.585400e+04</td>\n",
       "      <td>1.585400e+04</td>\n",
       "      <td>15854.000000</td>\n",
       "      <td>15854.000000</td>\n",
       "      <td>1.585400e+04</td>\n",
       "      <td>15854.000000</td>\n",
       "      <td>15854.000000</td>\n",
       "      <td>10064</td>\n",
       "      <td>15854.000000</td>\n",
       "      <td>15854.000000</td>\n",
       "      <td>15854.000000</td>\n",
       "      <td>15854.000000</td>\n",
       "    </tr>\n",
       "    <tr>\n",
       "      <th>mean</th>\n",
       "      <td>1.579397e+17</td>\n",
       "      <td>1.541058e+08</td>\n",
       "      <td>13.745144</td>\n",
       "      <td>100.559903</td>\n",
       "      <td>3.217704e+03</td>\n",
       "      <td>15.292355</td>\n",
       "      <td>16.654157</td>\n",
       "      <td>2021-08-30 08:37:49.316375296</td>\n",
       "      <td>0.516178</td>\n",
       "      <td>13.889618</td>\n",
       "      <td>244.378643</td>\n",
       "      <td>3.481519</td>\n",
       "    </tr>\n",
       "    <tr>\n",
       "      <th>min</th>\n",
       "      <td>2.793400e+04</td>\n",
       "      <td>5.892000e+04</td>\n",
       "      <td>13.527300</td>\n",
       "      <td>100.329550</td>\n",
       "      <td>0.000000e+00</td>\n",
       "      <td>1.000000</td>\n",
       "      <td>0.000000</td>\n",
       "      <td>2012-12-15 00:00:00</td>\n",
       "      <td>0.000000</td>\n",
       "      <td>1.000000</td>\n",
       "      <td>0.000000</td>\n",
       "      <td>0.000000</td>\n",
       "    </tr>\n",
       "    <tr>\n",
       "      <th>25%</th>\n",
       "      <td>2.104509e+07</td>\n",
       "      <td>3.974431e+07</td>\n",
       "      <td>13.720090</td>\n",
       "      <td>100.529690</td>\n",
       "      <td>9.000000e+02</td>\n",
       "      <td>1.000000</td>\n",
       "      <td>0.000000</td>\n",
       "      <td>2020-02-20 00:00:00</td>\n",
       "      <td>0.000000</td>\n",
       "      <td>1.000000</td>\n",
       "      <td>138.000000</td>\n",
       "      <td>0.000000</td>\n",
       "    </tr>\n",
       "    <tr>\n",
       "      <th>50%</th>\n",
       "      <td>3.503734e+07</td>\n",
       "      <td>1.224556e+08</td>\n",
       "      <td>13.738490</td>\n",
       "      <td>100.561415</td>\n",
       "      <td>1.429000e+03</td>\n",
       "      <td>1.000000</td>\n",
       "      <td>2.000000</td>\n",
       "      <td>2022-10-24 00:00:00</td>\n",
       "      <td>0.090000</td>\n",
       "      <td>4.000000</td>\n",
       "      <td>309.000000</td>\n",
       "      <td>0.000000</td>\n",
       "    </tr>\n",
       "    <tr>\n",
       "      <th>75%</th>\n",
       "      <td>5.256154e+07</td>\n",
       "      <td>2.390547e+08</td>\n",
       "      <td>13.759497</td>\n",
       "      <td>100.585150</td>\n",
       "      <td>2.429000e+03</td>\n",
       "      <td>7.000000</td>\n",
       "      <td>13.000000</td>\n",
       "      <td>2022-12-08 00:00:00</td>\n",
       "      <td>0.670000</td>\n",
       "      <td>13.000000</td>\n",
       "      <td>360.000000</td>\n",
       "      <td>3.000000</td>\n",
       "    </tr>\n",
       "    <tr>\n",
       "      <th>max</th>\n",
       "      <td>7.908162e+17</td>\n",
       "      <td>4.926659e+08</td>\n",
       "      <td>13.953540</td>\n",
       "      <td>100.923440</td>\n",
       "      <td>1.100000e+06</td>\n",
       "      <td>1125.000000</td>\n",
       "      <td>1224.000000</td>\n",
       "      <td>2022-12-28 00:00:00</td>\n",
       "      <td>19.130000</td>\n",
       "      <td>228.000000</td>\n",
       "      <td>365.000000</td>\n",
       "      <td>325.000000</td>\n",
       "    </tr>\n",
       "    <tr>\n",
       "      <th>std</th>\n",
       "      <td>2.946015e+17</td>\n",
       "      <td>1.318726e+08</td>\n",
       "      <td>0.043040</td>\n",
       "      <td>0.050911</td>\n",
       "      <td>2.497212e+04</td>\n",
       "      <td>50.815020</td>\n",
       "      <td>40.613331</td>\n",
       "      <td>NaN</td>\n",
       "      <td>0.952753</td>\n",
       "      <td>30.269848</td>\n",
       "      <td>125.843224</td>\n",
       "      <td>8.916937</td>\n",
       "    </tr>\n",
       "  </tbody>\n",
       "</table>\n",
       "</div>"
      ],
      "text/plain": [
       "                 id       host_id      latitude     longitude         price  \\\n",
       "count  1.585400e+04  1.585400e+04  15854.000000  15854.000000  1.585400e+04   \n",
       "mean   1.579397e+17  1.541058e+08     13.745144    100.559903  3.217704e+03   \n",
       "min    2.793400e+04  5.892000e+04     13.527300    100.329550  0.000000e+00   \n",
       "25%    2.104509e+07  3.974431e+07     13.720090    100.529690  9.000000e+02   \n",
       "50%    3.503734e+07  1.224556e+08     13.738490    100.561415  1.429000e+03   \n",
       "75%    5.256154e+07  2.390547e+08     13.759497    100.585150  2.429000e+03   \n",
       "max    7.908162e+17  4.926659e+08     13.953540    100.923440  1.100000e+06   \n",
       "std    2.946015e+17  1.318726e+08      0.043040      0.050911  2.497212e+04   \n",
       "\n",
       "       minimum_nights  number_of_reviews                    last_review  \\\n",
       "count    15854.000000       15854.000000                          10064   \n",
       "mean        15.292355          16.654157  2021-08-30 08:37:49.316375296   \n",
       "min          1.000000           0.000000            2012-12-15 00:00:00   \n",
       "25%          1.000000           0.000000            2020-02-20 00:00:00   \n",
       "50%          1.000000           2.000000            2022-10-24 00:00:00   \n",
       "75%          7.000000          13.000000            2022-12-08 00:00:00   \n",
       "max       1125.000000        1224.000000            2022-12-28 00:00:00   \n",
       "std         50.815020          40.613331                            NaN   \n",
       "\n",
       "       reviews_per_month  calculated_host_listings_count  availability_365  \\\n",
       "count       15854.000000                    15854.000000      15854.000000   \n",
       "mean            0.516178                       13.889618        244.378643   \n",
       "min             0.000000                        1.000000          0.000000   \n",
       "25%             0.000000                        1.000000        138.000000   \n",
       "50%             0.090000                        4.000000        309.000000   \n",
       "75%             0.670000                       13.000000        360.000000   \n",
       "max            19.130000                      228.000000        365.000000   \n",
       "std             0.952753                       30.269848        125.843224   \n",
       "\n",
       "       number_of_reviews_ltm  \n",
       "count           15854.000000  \n",
       "mean                3.481519  \n",
       "min                 0.000000  \n",
       "25%                 0.000000  \n",
       "50%                 0.000000  \n",
       "75%                 3.000000  \n",
       "max               325.000000  \n",
       "std                 8.916937  "
      ]
     },
     "execution_count": 20,
     "metadata": {},
     "output_type": "execute_result"
    }
   ],
   "source": [
    "# Descriptive statistics of numerical data\n",
    "df.describe()"
   ]
  },
  {
   "cell_type": "code",
   "execution_count": 21,
   "metadata": {},
   "outputs": [
    {
     "data": {
      "text/html": [
       "<div>\n",
       "<style scoped>\n",
       "    .dataframe tbody tr th:only-of-type {\n",
       "        vertical-align: middle;\n",
       "    }\n",
       "\n",
       "    .dataframe tbody tr th {\n",
       "        vertical-align: top;\n",
       "    }\n",
       "\n",
       "    .dataframe thead th {\n",
       "        text-align: right;\n",
       "    }\n",
       "</style>\n",
       "<table border=\"1\" class=\"dataframe\">\n",
       "  <thead>\n",
       "    <tr style=\"text-align: right;\">\n",
       "      <th></th>\n",
       "      <th>name</th>\n",
       "      <th>host_name</th>\n",
       "      <th>neighbourhood</th>\n",
       "      <th>room_type</th>\n",
       "    </tr>\n",
       "  </thead>\n",
       "  <tbody>\n",
       "    <tr>\n",
       "      <th>count</th>\n",
       "      <td>15854</td>\n",
       "      <td>15854</td>\n",
       "      <td>15854</td>\n",
       "      <td>15854</td>\n",
       "    </tr>\n",
       "    <tr>\n",
       "      <th>unique</th>\n",
       "      <td>14795</td>\n",
       "      <td>5313</td>\n",
       "      <td>50</td>\n",
       "      <td>4</td>\n",
       "    </tr>\n",
       "    <tr>\n",
       "      <th>top</th>\n",
       "      <td>New!  La Chada Night Market studio 2PPL near MRT</td>\n",
       "      <td>Curry</td>\n",
       "      <td>Vadhana</td>\n",
       "      <td>Entire home/apt</td>\n",
       "    </tr>\n",
       "    <tr>\n",
       "      <th>freq</th>\n",
       "      <td>45</td>\n",
       "      <td>228</td>\n",
       "      <td>2153</td>\n",
       "      <td>8912</td>\n",
       "    </tr>\n",
       "  </tbody>\n",
       "</table>\n",
       "</div>"
      ],
      "text/plain": [
       "                                                    name host_name  \\\n",
       "count                                              15854     15854   \n",
       "unique                                             14795      5313   \n",
       "top     New!  La Chada Night Market studio 2PPL near MRT     Curry   \n",
       "freq                                                  45       228   \n",
       "\n",
       "       neighbourhood        room_type  \n",
       "count          15854            15854  \n",
       "unique            50                4  \n",
       "top          Vadhana  Entire home/apt  \n",
       "freq            2153             8912  "
      ]
     },
     "execution_count": 21,
     "metadata": {},
     "output_type": "execute_result"
    }
   ],
   "source": [
    "# Descriptive statistics of categorical data\n",
    "df.describe(include=[\"object\"])"
   ]
  },
  {
   "cell_type": "markdown",
   "metadata": {},
   "source": [
    "**Insight**:<br>\n",
    "The descriptive statistics show an anomaly in the '**price**' feature, with a minimum value of 0. Clearly, a rental price of 0 is unrealistic.\n"
   ]
  },
  {
   "cell_type": "markdown",
   "metadata": {},
   "source": [
    "#### **3.4.2. Handling Anomalies**"
   ]
  },
  {
   "cell_type": "code",
   "execution_count": 22,
   "metadata": {},
   "outputs": [
    {
     "data": {
      "text/html": [
       "<div>\n",
       "<style scoped>\n",
       "    .dataframe tbody tr th:only-of-type {\n",
       "        vertical-align: middle;\n",
       "    }\n",
       "\n",
       "    .dataframe tbody tr th {\n",
       "        vertical-align: top;\n",
       "    }\n",
       "\n",
       "    .dataframe thead th {\n",
       "        text-align: right;\n",
       "    }\n",
       "</style>\n",
       "<table border=\"1\" class=\"dataframe\">\n",
       "  <thead>\n",
       "    <tr style=\"text-align: right;\">\n",
       "      <th></th>\n",
       "      <th>id</th>\n",
       "      <th>name</th>\n",
       "      <th>host_id</th>\n",
       "      <th>host_name</th>\n",
       "      <th>neighbourhood</th>\n",
       "      <th>latitude</th>\n",
       "      <th>longitude</th>\n",
       "      <th>room_type</th>\n",
       "      <th>price</th>\n",
       "      <th>minimum_nights</th>\n",
       "      <th>number_of_reviews</th>\n",
       "      <th>last_review</th>\n",
       "      <th>reviews_per_month</th>\n",
       "      <th>calculated_host_listings_count</th>\n",
       "      <th>availability_365</th>\n",
       "      <th>number_of_reviews_ltm</th>\n",
       "    </tr>\n",
       "  </thead>\n",
       "  <tbody>\n",
       "    <tr>\n",
       "      <th>11103</th>\n",
       "      <td>44563108</td>\n",
       "      <td>Somerset Maison Asoke Bangkok</td>\n",
       "      <td>360620448</td>\n",
       "      <td>Somerset Maison Asoke</td>\n",
       "      <td>Vadhana</td>\n",
       "      <td>13.73815</td>\n",
       "      <td>100.5642</td>\n",
       "      <td>Hotel room</td>\n",
       "      <td>0</td>\n",
       "      <td>1</td>\n",
       "      <td>0</td>\n",
       "      <td>NaT</td>\n",
       "      <td>0.0</td>\n",
       "      <td>1</td>\n",
       "      <td>0</td>\n",
       "      <td>0</td>\n",
       "    </tr>\n",
       "  </tbody>\n",
       "</table>\n",
       "</div>"
      ],
      "text/plain": [
       "             id                           name    host_id  \\\n",
       "11103  44563108  Somerset Maison Asoke Bangkok  360620448   \n",
       "\n",
       "                   host_name neighbourhood  latitude  longitude   room_type  \\\n",
       "11103  Somerset Maison Asoke       Vadhana  13.73815   100.5642  Hotel room   \n",
       "\n",
       "       price  minimum_nights  number_of_reviews last_review  \\\n",
       "11103      0               1                  0         NaT   \n",
       "\n",
       "       reviews_per_month  calculated_host_listings_count  availability_365  \\\n",
       "11103                0.0                               1                 0   \n",
       "\n",
       "       number_of_reviews_ltm  \n",
       "11103                      0  "
      ]
     },
     "execution_count": 22,
     "metadata": {},
     "output_type": "execute_result"
    }
   ],
   "source": [
    "# Display the price column with a minimum value of 0\n",
    "df[df[\"price\"] == 0]"
   ]
  },
  {
   "cell_type": "markdown",
   "metadata": {},
   "source": [
    "The analysis found that index 11103 has a value of 0 in the 'price' column. The next step is to delete this row."
   ]
  },
  {
   "cell_type": "code",
   "execution_count": 23,
   "metadata": {},
   "outputs": [],
   "source": [
    "df.drop(index=11103, inplace=True)"
   ]
  },
  {
   "cell_type": "code",
   "execution_count": 24,
   "metadata": {},
   "outputs": [
    {
     "data": {
      "text/plain": [
       "(15853, 16)"
      ]
     },
     "metadata": {},
     "output_type": "display_data"
    },
    {
     "data": {
      "text/html": [
       "<div>\n",
       "<style scoped>\n",
       "    .dataframe tbody tr th:only-of-type {\n",
       "        vertical-align: middle;\n",
       "    }\n",
       "\n",
       "    .dataframe tbody tr th {\n",
       "        vertical-align: top;\n",
       "    }\n",
       "\n",
       "    .dataframe thead th {\n",
       "        text-align: right;\n",
       "    }\n",
       "</style>\n",
       "<table border=\"1\" class=\"dataframe\">\n",
       "  <thead>\n",
       "    <tr style=\"text-align: right;\">\n",
       "      <th></th>\n",
       "      <th>id</th>\n",
       "      <th>name</th>\n",
       "      <th>host_id</th>\n",
       "      <th>host_name</th>\n",
       "      <th>neighbourhood</th>\n",
       "      <th>latitude</th>\n",
       "      <th>longitude</th>\n",
       "      <th>room_type</th>\n",
       "      <th>price</th>\n",
       "      <th>minimum_nights</th>\n",
       "      <th>number_of_reviews</th>\n",
       "      <th>last_review</th>\n",
       "      <th>reviews_per_month</th>\n",
       "      <th>calculated_host_listings_count</th>\n",
       "      <th>availability_365</th>\n",
       "      <th>number_of_reviews_ltm</th>\n",
       "    </tr>\n",
       "  </thead>\n",
       "  <tbody>\n",
       "  </tbody>\n",
       "</table>\n",
       "</div>"
      ],
      "text/plain": [
       "Empty DataFrame\n",
       "Columns: [id, name, host_id, host_name, neighbourhood, latitude, longitude, room_type, price, minimum_nights, number_of_reviews, last_review, reviews_per_month, calculated_host_listings_count, availability_365, number_of_reviews_ltm]\n",
       "Index: []"
      ]
     },
     "metadata": {},
     "output_type": "display_data"
    }
   ],
   "source": [
    "# verifying whether the row has been successfully deleted\n",
    "display(df.shape, df[df[\"price\"] == 0])"
   ]
  },
  {
   "cell_type": "markdown",
   "metadata": {},
   "source": [
    "As noted, the total number of rows has reduced by 1 from the original count of 15,854"
   ]
  },
  {
   "cell_type": "code",
   "execution_count": 25,
   "metadata": {},
   "outputs": [],
   "source": [
    "df.to_csv('data_cleaned.csv', index=False)"
   ]
  },
  {
   "cell_type": "markdown",
   "metadata": {},
   "source": [
    "## **4. Analytics**<br>"
   ]
  },
  {
   "cell_type": "code",
   "execution_count": 26,
   "metadata": {},
   "outputs": [],
   "source": [
    "# Load the Dataset\n",
    "df = pd.read_csv(r\"C:\\Users\\user\\OneDrive\\Documents\\Airbnb-Listings-Bangkok-Project\\data\\cleaned\\data_cleaned.csv\")"
   ]
  },
  {
   "cell_type": "code",
   "execution_count": 27,
   "metadata": {},
   "outputs": [],
   "source": [
    "# Drop unnecessary columns from the dataset\n",
    "df.drop(columns=[\"id\", \"host_id\"], inplace=True)"
   ]
  },
  {
   "cell_type": "markdown",
   "metadata": {},
   "source": [
    "**Normality Assumption**"
   ]
  },
  {
   "cell_type": "code",
   "execution_count": 28,
   "metadata": {},
   "outputs": [
    {
     "name": "stderr",
     "output_type": "stream",
     "text": [
      "c:\\Users\\user\\anaconda3\\Lib\\site-packages\\scipy\\stats\\_axis_nan_policy.py:531: UserWarning: scipy.stats.shapiro: For N > 5000, computed p-value may not be accurate. Current N is 15853.\n",
      "  res = hypotest_fun_out(*samples, **kwds)\n"
     ]
    },
    {
     "data": {
      "text/html": [
       "<div>\n",
       "<style scoped>\n",
       "    .dataframe tbody tr th:only-of-type {\n",
       "        vertical-align: middle;\n",
       "    }\n",
       "\n",
       "    .dataframe tbody tr th {\n",
       "        vertical-align: top;\n",
       "    }\n",
       "\n",
       "    .dataframe thead th {\n",
       "        text-align: right;\n",
       "    }\n",
       "</style>\n",
       "<table border=\"1\" class=\"dataframe\">\n",
       "  <thead>\n",
       "    <tr style=\"text-align: right;\">\n",
       "      <th></th>\n",
       "      <th>Shapiro-Wilk Statistic</th>\n",
       "      <th>Shapiro-Wilk p-value</th>\n",
       "      <th>Skewness</th>\n",
       "      <th>Skew Direction</th>\n",
       "      <th>Normally Distributed</th>\n",
       "    </tr>\n",
       "  </thead>\n",
       "  <tbody>\n",
       "    <tr>\n",
       "      <th>latitude</th>\n",
       "      <td>0.90341</td>\n",
       "      <td>0.0</td>\n",
       "      <td>1.401384</td>\n",
       "      <td>Positive</td>\n",
       "      <td>False</td>\n",
       "    </tr>\n",
       "    <tr>\n",
       "      <th>longitude</th>\n",
       "      <td>0.95221</td>\n",
       "      <td>0.0</td>\n",
       "      <td>0.559228</td>\n",
       "      <td>Positive</td>\n",
       "      <td>False</td>\n",
       "    </tr>\n",
       "    <tr>\n",
       "      <th>price</th>\n",
       "      <td>0.044418</td>\n",
       "      <td>0.0</td>\n",
       "      <td>33.882198</td>\n",
       "      <td>Positive</td>\n",
       "      <td>False</td>\n",
       "    </tr>\n",
       "    <tr>\n",
       "      <th>minimum_nights</th>\n",
       "      <td>0.279787</td>\n",
       "      <td>0.0</td>\n",
       "      <td>8.229398</td>\n",
       "      <td>Positive</td>\n",
       "      <td>False</td>\n",
       "    </tr>\n",
       "    <tr>\n",
       "      <th>number_of_reviews</th>\n",
       "      <td>0.441057</td>\n",
       "      <td>0.0</td>\n",
       "      <td>6.261361</td>\n",
       "      <td>Positive</td>\n",
       "      <td>False</td>\n",
       "    </tr>\n",
       "    <tr>\n",
       "      <th>reviews_per_month</th>\n",
       "      <td>0.579128</td>\n",
       "      <td>0.0</td>\n",
       "      <td>4.628295</td>\n",
       "      <td>Positive</td>\n",
       "      <td>False</td>\n",
       "    </tr>\n",
       "    <tr>\n",
       "      <th>calculated_host_listings_count</th>\n",
       "      <td>0.417437</td>\n",
       "      <td>0.0</td>\n",
       "      <td>5.386583</td>\n",
       "      <td>Positive</td>\n",
       "      <td>False</td>\n",
       "    </tr>\n",
       "    <tr>\n",
       "      <th>availability_365</th>\n",
       "      <td>0.832341</td>\n",
       "      <td>0.0</td>\n",
       "      <td>-0.576219</td>\n",
       "      <td>Negative</td>\n",
       "      <td>False</td>\n",
       "    </tr>\n",
       "    <tr>\n",
       "      <th>number_of_reviews_ltm</th>\n",
       "      <td>0.411577</td>\n",
       "      <td>0.0</td>\n",
       "      <td>9.725723</td>\n",
       "      <td>Positive</td>\n",
       "      <td>False</td>\n",
       "    </tr>\n",
       "  </tbody>\n",
       "</table>\n",
       "</div>"
      ],
      "text/plain": [
       "                               Shapiro-Wilk Statistic Shapiro-Wilk p-value  \\\n",
       "latitude                                      0.90341                  0.0   \n",
       "longitude                                     0.95221                  0.0   \n",
       "price                                        0.044418                  0.0   \n",
       "minimum_nights                               0.279787                  0.0   \n",
       "number_of_reviews                            0.441057                  0.0   \n",
       "reviews_per_month                            0.579128                  0.0   \n",
       "calculated_host_listings_count               0.417437                  0.0   \n",
       "availability_365                             0.832341                  0.0   \n",
       "number_of_reviews_ltm                        0.411577                  0.0   \n",
       "\n",
       "                                 Skewness Skew Direction  Normally Distributed  \n",
       "latitude                         1.401384       Positive                 False  \n",
       "longitude                        0.559228       Positive                 False  \n",
       "price                           33.882198       Positive                 False  \n",
       "minimum_nights                   8.229398       Positive                 False  \n",
       "number_of_reviews                6.261361       Positive                 False  \n",
       "reviews_per_month                4.628295       Positive                 False  \n",
       "calculated_host_listings_count   5.386583       Positive                 False  \n",
       "availability_365                -0.576219       Negative                 False  \n",
       "number_of_reviews_ltm            9.725723       Positive                 False  "
      ]
     },
     "execution_count": 28,
     "metadata": {},
     "output_type": "execute_result"
    }
   ],
   "source": [
    "numerical_columns = df.select_dtypes(include=[\"int64\", \"float64\"]).columns\n",
    "\n",
    "normality_test_results = {}\n",
    "\n",
    "num_cols = len(numerical_columns)\n",
    "\n",
    "rows = (num_cols + 2) // 3\n",
    "\n",
    "for i, col in enumerate(numerical_columns):\n",
    "\n",
    "    # Perform the Shapiro-Wilk Test for normality\n",
    "    shapiro_test = stats.shapiro(df[col])\n",
    "\n",
    "    # Calculate the skewness\n",
    "    skewness = df[col].skew()\n",
    "\n",
    "    # Determine the skew direction\n",
    "    if skewness > 0:\n",
    "        skew_direction = \"Positive\"\n",
    "    elif skewness < 0:\n",
    "        skew_direction = \"Negative\"\n",
    "    else:\n",
    "        skew_direction = \"None\"\n",
    "\n",
    "    # Storing the results\n",
    "    normality_test_results[col] = {\n",
    "        \"Shapiro-Wilk Statistic\": shapiro_test.statistic,\n",
    "        \"Shapiro-Wilk p-value\": shapiro_test.pvalue,\n",
    "        \"Skewness\": skewness,\n",
    "        \"Skew Direction\": skew_direction\n",
    "    }\n",
    "\n",
    "# Convert the dictionary to a DataFrame\n",
    "normality_results_df = pd.DataFrame(normality_test_results).T\n",
    "\n",
    "# Adding a column to indicate if the data is normally distributed based on p-values\n",
    "normality_results_df[\"Normally Distributed\"] = (normality_results_df[\"Shapiro-Wilk p-value\"] > 0.05)\n",
    "\n",
    "normality_results_df"
   ]
  },
  {
   "cell_type": "markdown",
   "metadata": {},
   "source": [
    "**Insight** : \"All features in the data do not meet the normality assumption.\""
   ]
  },
  {
   "cell_type": "markdown",
   "metadata": {},
   "source": [
    "**Outlier Analysis**"
   ]
  },
  {
   "cell_type": "code",
   "execution_count": 29,
   "metadata": {},
   "outputs": [
    {
     "data": {
      "image/png": "[encoded data removed]",
      "text/plain": [
       "<Figure size 1500x1500 with 9 Axes>"
      ]
     },
     "metadata": {},
     "output_type": "display_data"
    },
    {
     "data": {
      "text/html": [
       "<div>\n",
       "<style scoped>\n",
       "    .dataframe tbody tr th:only-of-type {\n",
       "        vertical-align: middle;\n",
       "    }\n",
       "\n",
       "    .dataframe tbody tr th {\n",
       "        vertical-align: top;\n",
       "    }\n",
       "\n",
       "    .dataframe thead th {\n",
       "        text-align: right;\n",
       "    }\n",
       "</style>\n",
       "<table border=\"1\" class=\"dataframe\">\n",
       "  <thead>\n",
       "    <tr style=\"text-align: right;\">\n",
       "      <th></th>\n",
       "      <th>Column</th>\n",
       "      <th>Total Outliers</th>\n",
       "      <th>Percentage (%)</th>\n",
       "      <th>Lower Bound</th>\n",
       "      <th>Upper Bound</th>\n",
       "    </tr>\n",
       "  </thead>\n",
       "  <tbody>\n",
       "    <tr>\n",
       "      <th>0</th>\n",
       "      <td>latitude</td>\n",
       "      <td>1094</td>\n",
       "      <td>6.900902</td>\n",
       "      <td>13.660975</td>\n",
       "      <td>13.818615</td>\n",
       "    </tr>\n",
       "    <tr>\n",
       "      <th>1</th>\n",
       "      <td>longitude</td>\n",
       "      <td>602</td>\n",
       "      <td>3.797389</td>\n",
       "      <td>100.446500</td>\n",
       "      <td>100.668340</td>\n",
       "    </tr>\n",
       "    <tr>\n",
       "      <th>2</th>\n",
       "      <td>price</td>\n",
       "      <td>1403</td>\n",
       "      <td>8.850060</td>\n",
       "      <td>-1393.500000</td>\n",
       "      <td>4722.500000</td>\n",
       "    </tr>\n",
       "    <tr>\n",
       "      <th>3</th>\n",
       "      <td>minimum_nights</td>\n",
       "      <td>3168</td>\n",
       "      <td>19.983599</td>\n",
       "      <td>-8.000000</td>\n",
       "      <td>16.000000</td>\n",
       "    </tr>\n",
       "    <tr>\n",
       "      <th>4</th>\n",
       "      <td>number_of_reviews</td>\n",
       "      <td>2240</td>\n",
       "      <td>14.129818</td>\n",
       "      <td>-19.500000</td>\n",
       "      <td>32.500000</td>\n",
       "    </tr>\n",
       "    <tr>\n",
       "      <th>5</th>\n",
       "      <td>reviews_per_month</td>\n",
       "      <td>1471</td>\n",
       "      <td>9.279001</td>\n",
       "      <td>-1.005000</td>\n",
       "      <td>1.675000</td>\n",
       "    </tr>\n",
       "    <tr>\n",
       "      <th>6</th>\n",
       "      <td>calculated_host_listings_count</td>\n",
       "      <td>1832</td>\n",
       "      <td>11.556172</td>\n",
       "      <td>-17.000000</td>\n",
       "      <td>31.000000</td>\n",
       "    </tr>\n",
       "    <tr>\n",
       "      <th>7</th>\n",
       "      <td>availability_365</td>\n",
       "      <td>0</td>\n",
       "      <td>0.000000</td>\n",
       "      <td>-195.000000</td>\n",
       "      <td>693.000000</td>\n",
       "    </tr>\n",
       "    <tr>\n",
       "      <th>8</th>\n",
       "      <td>number_of_reviews_ltm</td>\n",
       "      <td>2219</td>\n",
       "      <td>13.997351</td>\n",
       "      <td>-4.500000</td>\n",
       "      <td>7.500000</td>\n",
       "    </tr>\n",
       "  </tbody>\n",
       "</table>\n",
       "</div>"
      ],
      "text/plain": [
       "                           Column  Total Outliers  Percentage (%)  \\\n",
       "0                        latitude            1094        6.900902   \n",
       "1                       longitude             602        3.797389   \n",
       "2                           price            1403        8.850060   \n",
       "3                  minimum_nights            3168       19.983599   \n",
       "4               number_of_reviews            2240       14.129818   \n",
       "5               reviews_per_month            1471        9.279001   \n",
       "6  calculated_host_listings_count            1832       11.556172   \n",
       "7                availability_365               0        0.000000   \n",
       "8           number_of_reviews_ltm            2219       13.997351   \n",
       "\n",
       "   Lower Bound  Upper Bound  \n",
       "0    13.660975    13.818615  \n",
       "1   100.446500   100.668340  \n",
       "2 -1393.500000  4722.500000  \n",
       "3    -8.000000    16.000000  \n",
       "4   -19.500000    32.500000  \n",
       "5    -1.005000     1.675000  \n",
       "6   -17.000000    31.000000  \n",
       "7  -195.000000   693.000000  \n",
       "8    -4.500000     7.500000  "
      ]
     },
     "execution_count": 29,
     "metadata": {},
     "output_type": "execute_result"
    }
   ],
   "source": [
    "# Define numerical columns to include in the analysis (ensure these are numeric)\n",
    "numerical_columns = df.select_dtypes(include=['number']).columns\n",
    "\n",
    "# Initialize dictionary to store outliers\n",
    "outliers_dict = {}\n",
    "\n",
    "# Set up the number of rows and columns for the subplots\n",
    "num_cols = 3\n",
    "num_rows = (len(numerical_columns) + num_cols - 1) // num_cols\n",
    "\n",
    "# Create subplots\n",
    "fig, axes = plt.subplots(nrows=num_rows, ncols=num_cols, figsize=(num_cols * 5, num_rows * 5))\n",
    "axes = axes.flatten()\n",
    "\n",
    "# List to hold summary data about outliers\n",
    "summary_data = []\n",
    "\n",
    "# Iterate over each numerical column to detect outliers and generate boxplots\n",
    "for i, column in enumerate(numerical_columns):\n",
    "    q1 = df[column].quantile(0.25)\n",
    "    q3 = df[column].quantile(0.75)\n",
    "    iqr = q3 - q1\n",
    "    \n",
    "    lower_bound = q1 - 1.5 * iqr\n",
    "    upper_bound = q3 + 1.5 * iqr\n",
    "    \n",
    "    outliers = df[(df[column] < lower_bound) | (df[column] > upper_bound)]\n",
    "    outliers_dict[column] = outliers\n",
    "    \n",
    "    total_outliers = outliers.shape[0]\n",
    "    percentage = (total_outliers / df.shape[0]) * 100\n",
    "    \n",
    "    summary_data.append({\n",
    "        \"Column\": column,\n",
    "        \"Total Outliers\": total_outliers,\n",
    "        \"Percentage (%)\": percentage,\n",
    "        \"Lower Bound\": lower_bound,\n",
    "        \"Upper Bound\": upper_bound\n",
    "    })\n",
    "\n",
    "    axes[i].set_title(f\"Boxplot of {column} (with Outliers)\")\n",
    "    axes[i].boxplot(df[column].dropna())\n",
    "\n",
    "# Hide empty subplots\n",
    "for j in range(i + 1, len(axes)):\n",
    "    fig.delaxes(axes[j])\n",
    "\n",
    "plt.tight_layout()\n",
    "plt.show()\n",
    "\n",
    "# Create DataFrame to display the outliers summary\n",
    "outliers_summary_df = pd.DataFrame(summary_data)\n",
    "outliers_summary_df\n"
   ]
  },
  {
   "cell_type": "markdown",
   "metadata": {},
   "source": [
    "**Insight:**<br>\n",
    "Outliers can reflect unique or highly sought-after properties within certain market segments. For instance, Airbnb listings with very high or very low prices may represent luxury properties or accommodations priced very affordably, which may appeal to specific types of guests. Dropping these outliers would ignore market segments that provide a more complete picture of the market dynamics."
   ]
  },
  {
   "cell_type": "markdown",
   "metadata": {},
   "source": [
    "### **4.1. Geospatial Competition and Listing Density**"
   ]
  },
  {
   "cell_type": "markdown",
   "metadata": {},
   "source": [
    "### **4.2. Optimize Pricing and Availability**"
   ]
  },
  {
   "cell_type": "markdown",
   "metadata": {},
   "source": [
    "### **4.3. Evaluate Impact of Room Type and Minimum Stay Policy**"
   ]
  },
  {
   "cell_type": "markdown",
   "metadata": {},
   "source": [
    "## **5. Conclusion and Recommendation**"
   ]
  },
  {
   "cell_type": "markdown",
   "metadata": {},
   "source": [
    "### **5.1. Conclusion**"
   ]
  },
  {
   "cell_type": "markdown",
   "metadata": {},
   "source": [
    "#### **5.1.1. Based on geospatial Competition and Listing Density**\n",
    "- To optimize Airbnb listings in Bangkok, hosts should target high-demand central districts like Sukhumvit, Silom, and Siam with premium accommodations, while diversifying offerings in non-central areas to attract budget-conscious travelers. Listings near key tourist spots and airports should highlight convenience features, and pricing strategies should be adjusted during peak periods like graduation season. These actions can help maximize occupancy rates and cater to different guest preferences, ultimately enhancing competitiveness in a dynamic market."
   ]
  },
  {
   "cell_type": "markdown",
   "metadata": {},
   "source": [
    "#### **5.1.2. Based on Optimaze Pricing and Availability**\n",
    "- Hosts should adjust their pricing strategies to align with seasonal demand, raising rates during high-demand months like December and offering discounts during off-peak months like April and June. Monitoring availability trends and adjusting booking policies can help maximize occupancy, while using dynamic pricing tools can ensure competitiveness by automatically adjusting prices based on market factors. These strategies can help hosts optimize their pricing and availability for better performance year-round.\n"
   ]
  },
  {
   "cell_type": "markdown",
   "metadata": {},
   "source": [
    "#### **5.1.3. ased on Evaluate Impact of Room Type and Minimum Stay Policy**\n",
    "- To optimize Airbnb listings, hosts should tailor their offerings to the type of room and target market. Hosts with Entire Homes/Apartments should consider offering longer-term stays and include family-friendly amenities, while those with Private Rooms or Shared Rooms should cater to budget-conscious or short-term travelers. Adjusting minimum stay requirements to allow flexibility and offering discounts for longer bookings can also enhance competitiveness. Additionally, maintaining short and flexible minimum night stays for hotel rooms can attract guests in urban areas where short-term stays are in high demand. These strategies will help hosts increase occupancy rates and appeal to a broader range of guests."
   ]
  },
  {
   "cell_type": "markdown",
   "metadata": {},
   "source": [
    "### **5.2. Recommendation**"
   ]
  },
  {
   "cell_type": "markdown",
   "metadata": {},
   "source": [
    "#### **5.2.1. Based on geospatial Competition and Listing Density**\n",
    "- **Target Central Districts with High Demand:**<br> Hosts in central districts such as Sukhumvit, Silom, and Siam should consider offering more premium accommodations, such as entire home/apartments (red markers), as these areas show high demand from tourists and business travelers. Since these regions are tourist-heavy and business-centric, premium pricing strategies might work well, especially during peak travel seasons.<br>\n",
    "**Action:** Focus on attracting tourists by offering amenities that cater to short-term stays (e.g., tourist guides, airport transfers, and proximity to shopping malls or restaurants).\n",
    "\n",
    "- **Diversify Listings in Non-Central Areas:**<br> For areas outside the central business district (e.g., Bang Kapi, Lat Phrao), consider listing private rooms (green markers) to cater to budget-conscious travelers, such as solo tourists, students, or longer-term guests. These areas may have slightly lower pricing but could offer high occupancy rates for budget travelers.<br>\n",
    "**Action:** Offer additional long-term stay discounts or features that appeal to students or solo travelers, such as workspaces, study areas, and easy access to public transportation.\n",
    "\n",
    "- **Optimize Listings Near Tourist Spots and Airports:**<br> Areas near key tourist spots like the Grand Palace and Wat Arun, as well as airports (Suvarnabhumi, Don Mueang), should offer convenience features such as easy check-ins/check-outs, airport shuttles, or partnerships with local tour operators. Listings in these areas could benefit from higher pricing, especially if they cater to tourists seeking convenience and easy access to attractions.<br>\n",
    "**Action:** Highlight proximity to tourist destinations in listings and consider offering guided tours, transportation services, or local experiences that appeal to tourists.\n",
    "\n",
    "- **Adjust Pricing During Graduation Season:**<br> Graduation periods usually result in increased demand, which offers an opportunity to adjust your pricing. Prices near graduation dates can be significantly higher, so adjusting rates to match this demand is important."
   ]
  },
  {
   "cell_type": "markdown",
   "metadata": {},
   "source": [
    "#### **5.2.2. Based on Optimize Pricing and Availability**\n",
    "- **Seasonal Pricing Strategy:**<br>Hosts should adjust their pricing based on seasonal demand fluctuations. For example, during high-demand months like December, when prices peak and reviews increase, hosts can raise their rates. During off-peak months like April and June, when demand is lower, offering discounts or flexible pricing can attract more guests.\n",
    "\n",
    "- **Adjust Availability to Maximize Occupancy:**<br> Hosts should monitor availability trends and adjust booking policies accordingly. For example, months like July and August, which show lower availability and higher demand, can be an opportunity to offer premium rates. Conversely, during months like October, when availability is higher, hosts can increase their offerings or reduce prices to ensure consistent bookings.\n",
    "\n",
    "- **Dynamic Pricing Tools:**<br> To stay competitive, hosts may consider utilizing dynamic pricing tools that adjust their prices automatically based on factors such as seasonality, demand, and competitor pricing."
   ]
  },
  {
   "cell_type": "markdown",
   "metadata": {},
   "source": [
    "#### **5.2.3. Based on Evaluate Impact of Room Type and Minimum Stay Policy**\n",
    "- **Optimize Room Type Offerings:**<br> Given the dominance of Entire Home/Apartments for both short and long stays, hosts with such properties should consider offering longer-term stays for better revenue potential. For hosts with Private Rooms or Shared Rooms, they should target budget-conscious travelers or shorter-term stays to ensure higher occupancy rates.\n",
    "\n",
    "- **Adjust Minimum Stay Requirements:**<br> Hosts should take into account that short stays (1-5 nights) are the most popular. For properties that have longer minimum stays, hosts might consider offering more flexible stay policies or discounts for longer bookings to remain competitive.\n",
    "\n",
    "- **Customize Listings for Target Market:**<br> Hosts offering Entire Homes/Apartments should enhance their listings with family-friendly amenities, as these are popular for longer stays. Hosts with Private Rooms or Shared Rooms should focus on providing affordable options with a social or shared experience to attract younger travelers or those looking for budget-friendly options.\n",
    "\n",
    "- **Review Minimum Night Flexibility:**<br> Hosts offering Hotel Rooms may want to keep minimum stay requirements short and flexible, especially in urban areas where short-term stays are in demand."
   ]
  }
 ],
 "metadata": {
  "kernelspec": {
   "display_name": "base",
   "language": "python",
   "name": "python3"
  },
  "language_info": {
   "codemirror_mode": {
    "name": "ipython",
    "version": 3
   },
   "file_extension": ".py",
   "mimetype": "text/x-python",
   "name": "python",
   "nbconvert_exporter": "python",
   "pygments_lexer": "ipython3",
   "version": "3.12.7"
  }
 },
 "nbformat": 4,
 "nbformat_minor": 2
}
